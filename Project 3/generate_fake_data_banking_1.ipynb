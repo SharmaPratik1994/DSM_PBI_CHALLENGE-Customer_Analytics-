{
  "nbformat": 4,
  "nbformat_minor": 0,
  "metadata": {
    "colab": {
      "provenance": [],
      "authorship_tag": "ABX9TyMe3nI4RaGJMc0eej4E5bs/",
      "include_colab_link": true
    },
    "kernelspec": {
      "name": "python3",
      "display_name": "Python 3"
    },
    "language_info": {
      "name": "python"
    }
  },
  "cells": [
    {
      "cell_type": "markdown",
      "metadata": {
        "id": "view-in-github",
        "colab_type": "text"
      },
      "source": [
        "<a href=\"https://colab.research.google.com/github/SharmaPratik1994/DSM_PBI_CHALLENGE-Customer_Analytics-/blob/main/generate_fake_data_banking_1.ipynb\" target=\"_parent\"><img src=\"https://colab.research.google.com/assets/colab-badge.svg\" alt=\"Open In Colab\"/></a>"
      ]
    },
    {
      "cell_type": "code",
      "source": [
        "import pandas as pd\n",
        "import numpy as np\n",
        "from datetime import datetime, timedelta\n",
        "import random\n",
        "\n",
        "# Set a random seed for reproducibility\n",
        "np.random.seed(42)\n",
        "\n",
        "# Generate fake data for 12 months\n",
        "months = 12\n",
        "data = []\n",
        "\n",
        "# Generate data for each month\n",
        "for month in range(1, months + 1):\n",
        "    for customer_id in range(1001, 2001):\n",
        "        record = {\n",
        "            'Customer_ID': customer_id,\n",
        "            'Month': month,\n",
        "            'Customer_Lifetime_Value': np.random.randint(500, 5000),  # Random CLV\n",
        "            'Churn_Rate': np.random.uniform(0.01, 0.5),  # Random Churn Rate\n",
        "            'Net_Promoter_Score': np.random.randint(0, 11),  # Random NPS\n",
        "            'Account_Balance': np.random.randint(100, 50000),  # Random Account Balance\n",
        "            'Age': np.random.randint(18, 85),  # Random Age between 18 and 85\n",
        "            'Gender': random.choice(['Male', 'Female']),\n",
        "            'City': random.choice(['New York', 'Los Angeles', 'Chicago', 'Houston', 'Miami']),\n",
        "            'State': random.choice(['NY', 'CA', 'IL', 'TX', 'FL'])\n",
        "        }\n",
        "        data.append(record)\n",
        "\n",
        "# Create a DataFrame\n",
        "df = pd.DataFrame(data)\n",
        "\n",
        "# Convert 'Month' to a date and add it to each record\n",
        "# Assuming each record represents the first day of the respective month\n",
        "df['Month'] = df['Month'].apply(lambda x: (datetime.now() - timedelta(days=30*x)).replace(day=1))\n",
        "\n",
        "# Save the data to a CSV file\n",
        "df.to_csv('banking_analytics_data_monthly_with_demographics.csv', index=False)\n"
      ],
      "metadata": {
        "id": "N1vCPCE-7T8T"
      },
      "execution_count": 1,
      "outputs": []
    }
  ]
}